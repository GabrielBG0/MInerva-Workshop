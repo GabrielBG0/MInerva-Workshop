{
 "cells": [
  {
   "cell_type": "code",
   "execution_count": 1,
   "metadata": {},
   "outputs": [],
   "source": [
    "import lightning as L\n",
    "import numpy as np\n",
    "import torch\n",
    "from minerva.data.datasets.supervised_dataset import SupervisedReconstructionDataset\n",
    "from minerva.data.readers.png_reader import PNGReader\n",
    "from minerva.data.readers.tiff_reader import TiffReader\n",
    "from minerva.models.nets.setr import SETR_PUP\n",
    "from minerva.transforms.transform import _Transform\n",
    "from torch.utils.data import DataLoader\n",
    "from torchmetrics import JaccardIndex"
   ]
  },
  {
   "cell_type": "code",
   "execution_count": null,
   "metadata": {},
   "outputs": [],
   "source": [
    "\n",
    "class Padding(_Transform):\n",
    "    def __init__(self, target_size: int):\n",
    "        self.target_size = target_size\n",
    "\n",
    "    def __call__(self, x: np.ndarray) -> np.ndarray:\n",
    "        h, w = x.shape[:2]\n",
    "        pad_h = max(0, self.target_size - h)\n",
    "        pad_w = max(0, self.target_size - w)\n",
    "        if len(x.shape) == 2:\n",
    "            padded = np.pad(x, ((0, pad_h), (0, pad_w)), mode=\"reflect\")\n",
    "            padded = np.expand_dims(padded, axis=2)\n",
    "        else:\n",
    "            padded = np.pad(x, ((0, pad_h), (0, pad_w), (0, 0)), mode=\"reflect\")\n",
    "            padded = padded.astype(float)\n",
    "\n",
    "        padded = np.transpose(padded, (2, 0, 1))\n",
    "        return padded\n",
    "\n",
    "\n",
    "transform = Padding(768)"
   ]
  },
  {
   "cell_type": "code",
   "execution_count": null,
   "metadata": {},
   "outputs": [],
   "source": [
    "train_att_reader = TiffReader(\"f3/images/train\")\n",
    "val_att_reader = TiffReader(\"f3/images/val\")\n",
    "test_att_reader = TiffReader(\"f3/images/test\")\n",
    "\n",
    "train_lbl_reader = PNGReader(\"f3/annotations/train\")\n",
    "val_lbl_reader = PNGReader(\"f3/annotations/val\")\n",
    "test_lbl_reader = PNGReader(\"f3/annotations/test\")\n",
    "\n",
    "train_dataset = SupervisedReconstructionDataset(\n",
    "    [train_att_reader, train_lbl_reader], transform\n",
    ")\n",
    "val_dataset = SupervisedReconstructionDataset(\n",
    "    [val_att_reader, val_lbl_reader], transform\n",
    ")\n",
    "test_dataset = SupervisedReconstructionDataset(\n",
    "    [test_att_reader, test_lbl_reader], transform\n",
    ")\n",
    "\n",
    "train_dataloader = DataLoader(train_dataset, batch_size=2, shuffle=True, num_workers=5)\n",
    "val_dataloader = DataLoader(val_dataset, batch_size=2, shuffle=False, num_workers=5)\n",
    "test_dataloader = DataLoader(test_dataset, batch_size=2, shuffle=False, num_workers=5)"
   ]
  },
  {
   "cell_type": "code",
   "execution_count": null,
   "metadata": {},
   "outputs": [],
   "source": [
    "class F3DataModule(L.LightningDataModule):\n",
    "    def __init__(self, train_dataloader, val_dataloader, test_dataloader):\n",
    "        super().__init__()\n",
    "        self.train_dl = train_dataloader\n",
    "        self.val_dl = val_dataloader\n",
    "        self.test_dl = test_dataloader\n",
    "\n",
    "    def train_dataloader(self):\n",
    "        return self.train_dl\n",
    "\n",
    "    def val_dataloader(self):\n",
    "        return self.val_dl\n",
    "\n",
    "    def test_dataloader(self):\n",
    "        return self.test_dl\n",
    "\n",
    "\n",
    "data_module = F3DataModule(train_dataloader, val_dataloader, test_dataloader)\n"
   ]
  },
  {
   "cell_type": "code",
   "execution_count": null,
   "metadata": {},
   "outputs": [],
   "source": [
    "\n",
    "model = SETR_PUP(\n",
    "    image_size=768,\n",
    "    num_classes=6,\n",
    "    log_train_metrics=True,\n",
    "    log_val_metrics=True,\n",
    "    log_test_metrics=True,\n",
    "    train_metrics=JaccardIndex(task=\"multiclass\", num_classes=6),\n",
    "    val_metrics=JaccardIndex(task=\"multiclass\", num_classes=6),\n",
    "    test_metrics=JaccardIndex(task=\"multiclass\", num_classes=6),\n",
    ")\n",
    "\n",
    "trainer = L.Trainer(max_epochs=10, fast_dev_run=2)\n",
    "trainer.fit(model, data_module)\n",
    "trainer.save_checkpoint(\"setr.pth\")"
   ]
  },
  {
   "cell_type": "code",
   "execution_count": null,
   "metadata": {},
   "outputs": [],
   "source": [
    "trainer.test(model, data_module)"
   ]
  }
 ],
 "metadata": {
  "kernelspec": {
   "display_name": "Python 3",
   "language": "python",
   "name": "python3"
  },
  "language_info": {
   "codemirror_mode": {
    "name": "ipython",
    "version": 3
   },
   "file_extension": ".py",
   "mimetype": "text/x-python",
   "name": "python",
   "nbconvert_exporter": "python",
   "pygments_lexer": "ipython3",
   "version": "3.10.12"
  }
 },
 "nbformat": 4,
 "nbformat_minor": 2
}
